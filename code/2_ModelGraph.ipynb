{
 "cells": [
  {
   "cell_type": "code",
   "execution_count": 1,
   "metadata": {},
   "outputs": [],
   "source": [
    "###import packages\n",
    "from graph_tool.all import *; import graph_tool.all as gt; \n",
    "import  matplotlib; import math; import numpy as np; import pandas as pd;\n",
    "import pickle; import os; import gc\n",
    "\n",
    "DEBUG = True"
   ]
  },
  {
   "cell_type": "code",
   "execution_count": 2,
   "metadata": {},
   "outputs": [
    {
     "name": "stdout",
     "output_type": "stream",
     "text": [
      "Patient graph loaded\n",
      "<Graph object, undirected, with 2419 vertices and 2418 edges, 88 internal vertex properties, 58 internal edge properties, edges filtered by (<EdgePropertyMap object with value type 'bool', for Graph 0x7f5358218dc0, at 0x7f53216374c0>, False), vertices filtered by (<VertexPropertyMap object with value type 'bool', for Graph 0x7f5358218dc0, at 0x7f535aa55a90>, False), at 0x7f5358218dc0>\n"
     ]
    }
   ],
   "source": [
    "###file locations\n",
    "path='/media/Data1/tumour_genetics_git/'\n",
    "g=load_graph(path+\"patient_graph_model.xml.gz\")\n",
    "g.set_edge_filter(None)\n",
    "g.set_vertex_filter(None)\n",
    "\n",
    "if DEBUG:\n",
    "    g.set_edge_filter(g.ep.minspanningtree_summed_edges)\n",
    "    \n",
    "print(\"Patient graph loaded\")\n",
    "print(g)"
   ]
  },
  {
   "cell_type": "code",
   "execution_count": 3,
   "metadata": {},
   "outputs": [
    {
     "name": "stdout",
     "output_type": "stream",
     "text": [
      "Note we will take the minimum spanning tree of the graph to significnatly reduce the required runtime\n",
      "If running a full analysis (as done in the article) you should use the complete graph (computing power permitting)\n"
     ]
    }
   ],
   "source": [
    "print(\"Note we will take the minimum spanning tree of the graph to significnatly reduce the required runtime\\nIf running a full analysis (as done in the article) you should use the complete graph (computing power permitting)\")"
   ]
  },
  {
   "cell_type": "code",
   "execution_count": 4,
   "metadata": {
    "scrolled": true
   },
   "outputs": [],
   "source": [
    "###prepare multigraph weights to pass to stochastic block model\n",
    "genetic_props_name = []\n",
    "genetic_props_object = []\n",
    "\n",
    "for prop in g.ep:\n",
    "    genetic_props_name.append(prop)\n",
    "    genetic_props_object.append(g.ep[prop])\n",
    "\n",
    "temp_prop_dictionary = dict(zip(genetic_props_name,genetic_props_object))\n",
    "\n",
    "for key in list(temp_prop_dictionary.keys()):\n",
    "    if \"umap\" in key:\n",
    "        del temp_prop_dictionary[key]\n",
    "    if \"summed\" in key:\n",
    "        del temp_prop_dictionary[key]\n",
    "\n",
    "recs = []\n",
    "rec_types = []\n",
    "\n",
    "for i in range(len(list(temp_prop_dictionary.keys()))):\n",
    "    recs.append(g.ep[list(temp_prop_dictionary.keys())[i]])\n",
    "    rec_types.append('discrete-binomial')"
   ]
  },
  {
   "cell_type": "code",
   "execution_count": 5,
   "metadata": {},
   "outputs": [
    {
     "name": "stdout",
     "output_type": "stream",
     "text": [
      "These are the individual edge properties that shall be passed to the graph model\n"
     ]
    },
    {
     "data": {
      "text/plain": [
       "{'19q deletion': <EdgePropertyMap object with value type 'int32_t', for Graph 0x7f5358218dc0, at 0x7f53216522b0>,\n",
       " '1p/19q co-deletion': <EdgePropertyMap object with value type 'int32_t', for Graph 0x7f5358218dc0, at 0x7f5321652370>,\n",
       " '1p/19q deletion': <EdgePropertyMap object with value type 'int32_t', for Graph 0x7f5358218dc0, at 0x7f5321652430>,\n",
       " '1p/19q no co-deletion': <EdgePropertyMap object with value type 'int32_t', for Graph 0x7f5358218dc0, at 0x7f53216524f0>,\n",
       " 'ATRX loss': <EdgePropertyMap object with value type 'int32_t', for Graph 0x7f5358218dc0, at 0x7f53216525b0>,\n",
       " 'ATRX retained': <EdgePropertyMap object with value type 'int32_t', for Graph 0x7f5358218dc0, at 0x7f5321652670>,\n",
       " 'BRAF 1799 T>A': <EdgePropertyMap object with value type 'int32_t', for Graph 0x7f5358218dc0, at 0x7f5321652730>,\n",
       " 'BRAF Exon 15-9': <EdgePropertyMap object with value type 'int32_t', for Graph 0x7f5358218dc0, at 0x7f53216527f0>,\n",
       " 'BRAF Exon 16-11': <EdgePropertyMap object with value type 'int32_t', for Graph 0x7f5358218dc0, at 0x7f53216528b0>,\n",
       " 'BRAF Exon 16-9': <EdgePropertyMap object with value type 'int32_t', for Graph 0x7f5358218dc0, at 0x7f5321652970>,\n",
       " 'BRAF frameshift': <EdgePropertyMap object with value type 'int32_t', for Graph 0x7f5358218dc0, at 0x7f5321652a30>,\n",
       " 'BRAF fusion': <EdgePropertyMap object with value type 'int32_t', for Graph 0x7f5358218dc0, at 0x7f5321652af0>,\n",
       " 'BRAF mut': <EdgePropertyMap object with value type 'int32_t', for Graph 0x7f5358218dc0, at 0x7f5321652bb0>,\n",
       " 'BRAF point mut': <EdgePropertyMap object with value type 'int32_t', for Graph 0x7f5358218dc0, at 0x7f5321652c70>,\n",
       " 'BRAF wt': <EdgePropertyMap object with value type 'int32_t', for Graph 0x7f5358218dc0, at 0x7f5321652d30>,\n",
       " 'EGFR Amp': <EdgePropertyMap object with value type 'int32_t', for Graph 0x7f5358218dc0, at 0x7f5321652df0>,\n",
       " 'EGFR high amp': <EdgePropertyMap object with value type 'int32_t', for Graph 0x7f5358218dc0, at 0x7f5321652eb0>,\n",
       " 'EGFR low amp': <EdgePropertyMap object with value type 'int32_t', for Graph 0x7f5358218dc0, at 0x7f5321652f70>,\n",
       " 'EGFR mod amp': <EdgePropertyMap object with value type 'int32_t', for Graph 0x7f5358218dc0, at 0x7f53215d4070>,\n",
       " 'Hist G34R': <EdgePropertyMap object with value type 'int32_t', for Graph 0x7f5358218dc0, at 0x7f53215d4130>,\n",
       " 'Hist K27M': <EdgePropertyMap object with value type 'int32_t', for Graph 0x7f5358218dc0, at 0x7f53215d41f0>,\n",
       " 'Hist mut': <EdgePropertyMap object with value type 'int32_t', for Graph 0x7f5358218dc0, at 0x7f53215d42b0>,\n",
       " 'Hist wt': <EdgePropertyMap object with value type 'int32_t', for Graph 0x7f5358218dc0, at 0x7f53215d4370>,\n",
       " 'IDH mut': <EdgePropertyMap object with value type 'int32_t', for Graph 0x7f5358218dc0, at 0x7f53215d4430>,\n",
       " 'IDH wt': <EdgePropertyMap object with value type 'int32_t', for Graph 0x7f5358218dc0, at 0x7f53215d44f0>,\n",
       " 'IDH1 C394A': <EdgePropertyMap object with value type 'int32_t', for Graph 0x7f5358218dc0, at 0x7f53215d45b0>,\n",
       " 'IDH1 C394G': <EdgePropertyMap object with value type 'int32_t', for Graph 0x7f5358218dc0, at 0x7f53215d4670>,\n",
       " 'IDH1 C394T': <EdgePropertyMap object with value type 'int32_t', for Graph 0x7f5358218dc0, at 0x7f53215d4730>,\n",
       " 'IDH1 G394T': <EdgePropertyMap object with value type 'int32_t', for Graph 0x7f5358218dc0, at 0x7f53215d47f0>,\n",
       " 'IDH1 G395A': <EdgePropertyMap object with value type 'int32_t', for Graph 0x7f5358218dc0, at 0x7f53215d48b0>,\n",
       " 'IDH1 G395T': <EdgePropertyMap object with value type 'int32_t', for Graph 0x7f5358218dc0, at 0x7f53215d4970>,\n",
       " 'IDH1 mut': <EdgePropertyMap object with value type 'int32_t', for Graph 0x7f5358218dc0, at 0x7f53215d4a30>,\n",
       " 'IDH1 wt': <EdgePropertyMap object with value type 'int32_t', for Graph 0x7f5358218dc0, at 0x7f53215d4af0>,\n",
       " 'IDH2 A514G': <EdgePropertyMap object with value type 'int32_t', for Graph 0x7f5358218dc0, at 0x7f53215d4bb0>,\n",
       " 'IDH2 A514T': <EdgePropertyMap object with value type 'int32_t', for Graph 0x7f5358218dc0, at 0x7f53215d4c70>,\n",
       " 'IDH2 G515A': <EdgePropertyMap object with value type 'int32_t', for Graph 0x7f5358218dc0, at 0x7f53215d4d30>,\n",
       " 'IDH2 G515T': <EdgePropertyMap object with value type 'int32_t', for Graph 0x7f5358218dc0, at 0x7f53215d4df0>,\n",
       " 'IDH2 mut': <EdgePropertyMap object with value type 'int32_t', for Graph 0x7f5358218dc0, at 0x7f53215d4eb0>,\n",
       " 'IDH2 wt': <EdgePropertyMap object with value type 'int32_t', for Graph 0x7f5358218dc0, at 0x7f53215d4f70>,\n",
       " 'MGMT 0-5%': <EdgePropertyMap object with value type 'int32_t', for Graph 0x7f5358218dc0, at 0x7f53215d6070>,\n",
       " 'MGMT 10-25%': <EdgePropertyMap object with value type 'int32_t', for Graph 0x7f5358218dc0, at 0x7f53215d6130>,\n",
       " 'MGMT 5-10%': <EdgePropertyMap object with value type 'int32_t', for Graph 0x7f5358218dc0, at 0x7f53215d61f0>,\n",
       " 'MGMT >25%': <EdgePropertyMap object with value type 'int32_t', for Graph 0x7f5358218dc0, at 0x7f53215d62b0>,\n",
       " 'MGMT methylated': <EdgePropertyMap object with value type 'int32_t', for Graph 0x7f5358218dc0, at 0x7f53215d6370>,\n",
       " 'MGMT unmethylated': <EdgePropertyMap object with value type 'int32_t', for Graph 0x7f5358218dc0, at 0x7f53215d6430>,\n",
       " 'No EGFR Amp': <EdgePropertyMap object with value type 'int32_t', for Graph 0x7f5358218dc0, at 0x7f53215d64f0>,\n",
       " 'TERT C228T': <EdgePropertyMap object with value type 'int32_t', for Graph 0x7f5358218dc0, at 0x7f53215d65b0>,\n",
       " 'TERT C250T': <EdgePropertyMap object with value type 'int32_t', for Graph 0x7f5358218dc0, at 0x7f53215d6670>,\n",
       " 'TERT mut': <EdgePropertyMap object with value type 'int32_t', for Graph 0x7f5358218dc0, at 0x7f53215d6730>,\n",
       " 'TERT wt': <EdgePropertyMap object with value type 'int32_t', for Graph 0x7f5358218dc0, at 0x7f53215d67f0>}"
      ]
     },
     "execution_count": 5,
     "metadata": {},
     "output_type": "execute_result"
    }
   ],
   "source": [
    "print(\"These are the individual edge properties that shall be passed to the graph model\")\n",
    "temp_prop_dictionary"
   ]
  },
  {
   "cell_type": "code",
   "execution_count": 6,
   "metadata": {},
   "outputs": [
    {
     "name": "stdout",
     "output_type": "stream",
     "text": [
      "Running stochastic block models\n"
     ]
    }
   ],
   "source": [
    "print(\"Running stochastic block models\")\n",
    "state_binomial = gt.minimize_nested_blockmodel_dl(g,state_args=dict(recs=recs,rec_types=rec_types,deg_corr=True))\n",
    "pickle.dump(state_binomial,open(path+'state_binomial_raw.p','wb'),protocol=4)\n",
    "\n",
    "state_binomial_ndc = gt.minimize_nested_blockmodel_dl(g,state_args=dict(recs=recs,rec_types=rec_types,deg_corr=False))\n",
    "pickle.dump(state_binomial_ndc,open(path+'state_binomial_ndc_raw.p','wb'),protocol=4)"
   ]
  },
  {
   "cell_type": "code",
   "execution_count": 7,
   "metadata": {},
   "outputs": [
    {
     "name": "stdout",
     "output_type": "stream",
     "text": [
      "Comparing initial fits\n"
     ]
    },
    {
     "data": {
      "text/html": [
       "<div>\n",
       "<style scoped>\n",
       "    .dataframe tbody tr th:only-of-type {\n",
       "        vertical-align: middle;\n",
       "    }\n",
       "\n",
       "    .dataframe tbody tr th {\n",
       "        vertical-align: top;\n",
       "    }\n",
       "\n",
       "    .dataframe thead th {\n",
       "        text-align: right;\n",
       "    }\n",
       "</style>\n",
       "<table border=\"1\" class=\"dataframe\">\n",
       "  <thead>\n",
       "    <tr style=\"text-align: right;\">\n",
       "      <th></th>\n",
       "      <th>Model Distribution</th>\n",
       "      <th>Fit</th>\n",
       "      <th>Nested Block State Entropy</th>\n",
       "      <th>Degree Correction</th>\n",
       "      <th>Model Fit</th>\n",
       "      <th>MCMC Equilibrated Stochastic Block Model Entropy</th>\n",
       "      <th>modelname</th>\n",
       "    </tr>\n",
       "  </thead>\n",
       "  <tbody>\n",
       "    <tr>\n",
       "      <th>0</th>\n",
       "      <td>Multivariate Binomial</td>\n",
       "      <td>Nested</td>\n",
       "      <td>32198.589775</td>\n",
       "      <td>Degree Corrected</td>\n",
       "      <td>Nested, DC</td>\n",
       "      <td>0.0</td>\n",
       "      <td>state_binomial</td>\n",
       "    </tr>\n",
       "    <tr>\n",
       "      <th>1</th>\n",
       "      <td>Multivariate Binomial</td>\n",
       "      <td>Nested</td>\n",
       "      <td>36482.433507</td>\n",
       "      <td>Not Degree Corrected</td>\n",
       "      <td>Nested, NDC</td>\n",
       "      <td>0.0</td>\n",
       "      <td>state_binomial_ndc</td>\n",
       "    </tr>\n",
       "  </tbody>\n",
       "</table>\n",
       "</div>"
      ],
      "text/plain": [
       "      Model Distribution     Fit  Nested Block State Entropy  \\\n",
       "0  Multivariate Binomial  Nested                32198.589775   \n",
       "1  Multivariate Binomial  Nested                36482.433507   \n",
       "\n",
       "      Degree Correction    Model Fit  \\\n",
       "0      Degree Corrected   Nested, DC   \n",
       "1  Not Degree Corrected  Nested, NDC   \n",
       "\n",
       "   MCMC Equilibrated Stochastic Block Model Entropy           modelname  \n",
       "0                                               0.0      state_binomial  \n",
       "1                                               0.0  state_binomial_ndc  "
      ]
     },
     "execution_count": 7,
     "metadata": {},
     "output_type": "execute_result"
    }
   ],
   "source": [
    "print(\"Comparing initial fits\")\n",
    "N_rows=2; N_cols=7;\n",
    "entropymodels = pd.DataFrame(np.zeros((N_rows, N_cols)))\n",
    "entropymodels.columns = ['Model Distribution', 'Fit', 'Nested Block State Entropy','Degree Correction','Model Fit','MCMC Equilibrated Stochastic Block Model Entropy','modelname']\n",
    "entropymodels.iloc[:,0]=\"Multivariate Binomial\"\n",
    "entropymodels.iloc[:,1]='Nested'\n",
    "entropymodels.iloc[0,2]=state_binomial.entropy()\n",
    "entropymodels.iloc[1,2]=state_binomial_ndc.entropy()\n",
    "entropymodels.iloc[:,3]='Degree Corrected'\n",
    "entropymodels.iloc[1,3]='Not Degree Corrected'\n",
    "\n",
    "entropymodels.iloc[:,4]='Nested, DC'\n",
    "entropymodels.iloc[1,4]='Nested, NDC'\n",
    "\n",
    "entropymodels.iloc[0,6]='state_binomial'\n",
    "entropymodels.iloc[1,6]='state_binomial_ndc'\n",
    "\n",
    "entropymodels.head()"
   ]
  },
  {
   "cell_type": "code",
   "execution_count": 8,
   "metadata": {
    "scrolled": true
   },
   "outputs": [
    {
     "name": "stdout",
     "output_type": "stream",
     "text": [
      "Post-SBM optimisation with MCMC\n",
      "Note we have reduced the number of iterations here for the toy example to reduce runtime\n",
      "niter:     1  count:    0  breaks:  0  min_S: 32196.670  max_S: 32198.590  S: 32196.670  ΔS:     -1.91984  moves:     6 \n",
      "niter:     2  count:    0  breaks:  0  min_S: 32192.482  max_S: 32198.590  S: 32192.482  ΔS:     -4.18753  moves:     3 \n",
      "niter:     3  count:    0  breaks:  0  min_S: 32183.336  max_S: 32198.590  S: 32183.336  ΔS:     -9.14617  moves:    10 \n",
      "niter:     4  count:    0  breaks:  0  min_S: 32175.187  max_S: 32198.590  S: 32175.187  ΔS:     -8.14948  moves:     3 \n",
      "niter:     5  count:    1  breaks:  0  min_S: 32175.187  max_S: 32198.590  S: 32185.545  ΔS:      10.3586  moves:     4 \n",
      "niter:     6  count:    2  breaks:  0  min_S: 32175.187  max_S: 32198.590  S: 32175.923  ΔS:     -9.62283  moves:     4 \n",
      "niter:     7  count:    3  breaks:  0  min_S: 32175.187  max_S: 32198.590  S: 32178.849  ΔS:      2.92696  moves:   108 \n",
      "niter:     8  count:    4  breaks:  0  min_S: 32175.187  max_S: 32198.590  S: 32179.868  ΔS:      1.01896  moves:     5 \n",
      "niter:     9  count:    5  breaks:  0  min_S: 32175.187  max_S: 32198.590  S: 32178.841  ΔS:     -1.02715  moves:     2 \n",
      "niter:    10  count:    6  breaks:  0  min_S: 32175.187  max_S: 32198.590  S: 32178.130  ΔS:    -0.711642  moves:     2 \n",
      "niter:    11  count:    7  breaks:  0  min_S: 32175.187  max_S: 32198.590  S: 32183.748  ΔS:      5.61817  moves:     2 \n",
      "niter:    12  count:    8  breaks:  0  min_S: 32175.187  max_S: 32198.590  S: 32183.510  ΔS:    -0.237491  moves:     7 \n",
      "niter:    13  count:    9  breaks:  0  min_S: 32175.187  max_S: 32198.590  S: 32188.344  ΔS:      4.83336  moves:     5 \n",
      "niter:    14  count:    0  breaks:  1  min_S: 32185.170  max_S: 32185.170  S: 32185.170  ΔS:     -3.17366  moves:     6 \n",
      "niter:    15  count:    0  breaks:  1  min_S: 32181.592  max_S: 32185.170  S: 32181.592  ΔS:     -3.57830  moves:     2 \n",
      "niter:    16  count:    0  breaks:  1  min_S: 32179.059  max_S: 32185.170  S: 32179.059  ΔS:     -2.53300  moves:     5 \n",
      "niter:    17  count:    0  breaks:  1  min_S: 32175.898  max_S: 32185.170  S: 32175.898  ΔS:     -3.16079  moves:     4 \n",
      "niter:    18  count:    1  breaks:  1  min_S: 32175.898  max_S: 32185.170  S: 32176.207  ΔS:     0.309431  moves:     5 \n",
      "niter:    19  count:    0  breaks:  1  min_S: 32169.539  max_S: 32185.170  S: 32169.539  ΔS:     -6.66817  moves:     6 \n",
      "niter:    20  count:    0  breaks:  1  min_S: 32155.797  max_S: 32185.170  S: 32155.797  ΔS:     -13.7418  moves:     5 \n",
      "niter:    21  count:    0  breaks:  1  min_S: 32136.305  max_S: 32185.170  S: 32136.305  ΔS:     -19.4923  moves:     3 \n",
      "niter:    22  count:    0  breaks:  1  min_S: 32131.116  max_S: 32185.170  S: 32131.116  ΔS:     -5.18897  moves:  1054 \n",
      "niter:    23  count:    0  breaks:  1  min_S: 32129.754  max_S: 32185.170  S: 32129.754  ΔS:     -1.36224  moves:  1008 \n",
      "niter:    24  count:    0  breaks:  1  min_S: 32111.521  max_S: 32185.170  S: 32111.521  ΔS:     -18.2323  moves:  2913 \n",
      "niter:    25  count:    1  breaks:  1  min_S: 32111.521  max_S: 32185.170  S: 32115.281  ΔS:      3.75947  moves:     1 \n",
      "niter:    26  count:    0  breaks:  1  min_S: 32108.996  max_S: 32185.170  S: 32108.996  ΔS:     -6.28539  moves:  1076 \n",
      "niter:    27  count:    0  breaks:  1  min_S: 32093.069  max_S: 32185.170  S: 32093.069  ΔS:     -15.9264  moves:     3 \n",
      "niter:    28  count:    1  breaks:  1  min_S: 32093.069  max_S: 32185.170  S: 32093.069  ΔS:      0.00000  moves:     0 \n",
      "niter:    29  count:    0  breaks:  1  min_S: 32091.369  max_S: 32185.170  S: 32091.369  ΔS:     -1.70033  moves:     4 \n",
      "niter:    30  count:    0  breaks:  1  min_S: 32087.655  max_S: 32185.170  S: 32087.655  ΔS:     -3.71378  moves:  1653 \n",
      "niter:    31  count:    1  breaks:  1  min_S: 32087.655  max_S: 32185.170  S: 32092.489  ΔS:      4.83437  moves:     2 \n",
      "niter:    32  count:    0  breaks:  1  min_S: 32082.766  max_S: 32185.170  S: 32082.766  ΔS:     -9.72314  moves:     1 \n",
      "niter:    33  count:    0  breaks:  1  min_S: 32081.307  max_S: 32185.170  S: 32081.307  ΔS:     -1.45901  moves:     1 \n",
      "niter:    34  count:    0  breaks:  1  min_S: 32079.883  max_S: 32185.170  S: 32079.883  ΔS:     -1.42442  moves:     2 \n",
      "niter:    35  count:    1  breaks:  1  min_S: 32079.883  max_S: 32185.170  S: 32081.345  ΔS:      1.46163  moves:     1 \n",
      "niter:    36  count:    2  breaks:  1  min_S: 32079.883  max_S: 32185.170  S: 32079.883  ΔS:     -1.46163  moves:     1 \n",
      "niter:    37  count:    3  breaks:  1  min_S: 32079.883  max_S: 32185.170  S: 32083.601  ΔS:      3.71773  moves:     2 \n",
      "niter:    38  count:    4  breaks:  1  min_S: 32079.883  max_S: 32185.170  S: 32083.601  ΔS:      0.00000  moves:     0 \n",
      "niter:    39  count:    5  breaks:  1  min_S: 32079.883  max_S: 32185.170  S: 32084.711  ΔS:      1.10999  moves:     1 \n",
      "niter:    40  count:    6  breaks:  1  min_S: 32079.883  max_S: 32185.170  S: 32084.711  ΔS:      0.00000  moves:     0 \n",
      "niter:    41  count:    0  breaks:  1  min_S: 32077.932  max_S: 32185.170  S: 32077.932  ΔS:     -6.77866  moves:     4 \n",
      "niter:    42  count:    0  breaks:  1  min_S: 32077.129  max_S: 32185.170  S: 32077.129  ΔS:    -0.802770  moves:     2 \n",
      "niter:    43  count:    0  breaks:  1  min_S: 32075.550  max_S: 32185.170  S: 32075.550  ΔS:     -1.57889  moves:  1736 \n",
      "niter:    44  count:    0  breaks:  1  min_S: 32071.507  max_S: 32185.170  S: 32071.507  ΔS:     -4.04350  moves:     2 \n",
      "niter:    45  count:    1  breaks:  1  min_S: 32071.507  max_S: 32185.170  S: 32071.507  ΔS:      0.00000  moves:     0 \n",
      "niter:    46  count:    2  breaks:  1  min_S: 32071.507  max_S: 32185.170  S: 32071.507  ΔS:      0.00000  moves:     0 \n",
      "niter:    47  count:    3  breaks:  1  min_S: 32071.507  max_S: 32185.170  S: 32071.507  ΔS: -2.66454e-15  moves:    22 \n",
      "niter:    48  count:    4  breaks:  1  min_S: 32071.507  max_S: 32185.170  S: 32072.552  ΔS:      1.04521  moves:     1 \n",
      "niter:    49  count:    0  breaks:  1  min_S: 32070.113  max_S: 32185.170  S: 32070.113  ΔS:     -2.43949  moves:     1 \n",
      "niter:    50  count:    0  breaks:  1  min_S: 32069.803  max_S: 32185.170  S: 32069.803  ΔS:    -0.309511  moves:     1 \n",
      "niter:    51  count:    1  breaks:  1  min_S: 32069.803  max_S: 32185.170  S: 32070.113  ΔS:     0.309511  moves:     1 \n",
      "niter:    52  count:    2  breaks:  1  min_S: 32069.803  max_S: 32185.170  S: 32070.113  ΔS:      0.00000  moves:     0 \n",
      "niter:    53  count:    3  breaks:  1  min_S: 32069.803  max_S: 32185.170  S: 32070.113  ΔS:      0.00000  moves:     0 \n",
      "niter:    54  count:    0  breaks:  1  min_S: 32069.420  max_S: 32185.170  S: 32069.420  ΔS:    -0.692324  moves:     2 \n",
      "niter:    55  count:    1  breaks:  1  min_S: 32069.420  max_S: 32185.170  S: 32071.964  ΔS:      2.54351  moves:     5 \n",
      "niter:    56  count:    2  breaks:  1  min_S: 32069.420  max_S: 32185.170  S: 32071.964  ΔS:      0.00000  moves:     0 \n",
      "niter:    57  count:    3  breaks:  1  min_S: 32069.420  max_S: 32185.170  S: 32071.964  ΔS:      0.00000  moves:     2 \n",
      "niter:    58  count:    4  breaks:  1  min_S: 32069.420  max_S: 32185.170  S: 32077.382  ΔS:      5.41876  moves:     3 \n",
      "niter:    59  count:    5  breaks:  1  min_S: 32069.420  max_S: 32185.170  S: 32074.955  ΔS:     -2.42734  moves:     1 \n",
      "niter:    60  count:    6  breaks:  1  min_S: 32069.420  max_S: 32185.170  S: 32074.955  ΔS:      0.00000  moves:     2 \n",
      "niter:    61  count:    7  breaks:  1  min_S: 32069.420  max_S: 32185.170  S: 32074.646  ΔS:    -0.309511  moves:     1 \n",
      "niter:    62  count:    8  breaks:  1  min_S: 32069.420  max_S: 32185.170  S: 32074.955  ΔS:     0.309511  moves:     1 \n",
      "niter:    63  count:    9  breaks:  1  min_S: 32069.420  max_S: 32185.170  S: 32071.067  ΔS:     -3.88855  moves:  2702 \n",
      "niter:    64  count:    0  breaks:  1  min_S: 32043.846  max_S: 32185.170  S: 32043.846  ΔS:     -27.2206  moves:   434 \n",
      "niter:    65  count:    1  breaks:  1  min_S: 32043.846  max_S: 32185.170  S: 32048.181  ΔS:      4.33494  moves:     2 \n",
      "niter:    66  count:    0  breaks:  1  min_S: 32040.518  max_S: 32185.170  S: 32040.518  ΔS:     -7.66328  moves:     4 \n",
      "niter:    67  count:    1  breaks:  1  min_S: 32040.518  max_S: 32185.170  S: 32047.136  ΔS:      6.61839  moves:     4 \n"
     ]
    },
    {
     "name": "stdout",
     "output_type": "stream",
     "text": [
      "niter:    68  count:    2  breaks:  1  min_S: 32040.518  max_S: 32185.170  S: 32041.110  ΔS:     -6.02644  moves:     3 \n",
      "niter:    69  count:    3  breaks:  1  min_S: 32040.518  max_S: 32185.170  S: 32042.353  ΔS:      1.24385  moves:    62 \n",
      "niter:    70  count:    4  breaks:  1  min_S: 32040.518  max_S: 32185.170  S: 32047.388  ΔS:      5.03449  moves:     1 \n",
      "niter:    71  count:    5  breaks:  1  min_S: 32040.518  max_S: 32185.170  S: 32047.388  ΔS:      0.00000  moves:     0 \n",
      "niter:    72  count:    6  breaks:  1  min_S: 32040.518  max_S: 32185.170  S: 32044.742  ΔS:     -2.64609  moves:     1 \n",
      "niter:    73  count:    7  breaks:  1  min_S: 32040.518  max_S: 32185.170  S: 32040.997  ΔS:     -3.74452  moves:     3 \n",
      "niter:    74  count:    0  breaks:  1  min_S: 32038.167  max_S: 32185.170  S: 32038.167  ΔS:     -2.83014  moves:     3 \n",
      "niter:    75  count:    0  breaks:  1  min_S: 32032.017  max_S: 32185.170  S: 32032.017  ΔS:     -6.15043  moves:     1 \n",
      "niter:    76  count:    0  breaks:  1  min_S: 32030.022  max_S: 32185.170  S: 32030.022  ΔS:     -1.99501  moves:     2 \n",
      "niter:    77  count:    1  breaks:  1  min_S: 32030.022  max_S: 32185.170  S: 32030.022  ΔS:      0.00000  moves:     0 \n",
      "niter:    78  count:    0  breaks:  1  min_S: 32016.324  max_S: 32185.170  S: 32016.324  ΔS:     -13.6982  moves:     1 \n",
      "niter:    79  count:    1  breaks:  1  min_S: 32016.324  max_S: 32185.170  S: 32016.324  ΔS:      0.00000  moves:     0 \n",
      "niter:    80  count:    0  breaks:  1  min_S: 32000.598  max_S: 32185.170  S: 32000.598  ΔS:     -15.7261  moves:   316 \n",
      "niter:    81  count:    0  breaks:  1  min_S: 31998.752  max_S: 32185.170  S: 31998.752  ΔS:     -1.84552  moves:     1 \n",
      "niter:    82  count:    1  breaks:  1  min_S: 31998.752  max_S: 32185.170  S: 31999.733  ΔS:     0.981005  moves:     3 \n",
      "niter:    83  count:    2  breaks:  1  min_S: 31998.752  max_S: 32185.170  S: 32006.517  ΔS:      6.78357  moves:     2 \n",
      "niter:    84  count:    3  breaks:  1  min_S: 31998.752  max_S: 32185.170  S: 32009.891  ΔS:      3.37402  moves:     3 \n",
      "niter:    85  count:    4  breaks:  1  min_S: 31998.752  max_S: 32185.170  S: 32012.770  ΔS:      2.87943  moves:     5 \n",
      "niter:    86  count:    5  breaks:  1  min_S: 31998.752  max_S: 32185.170  S: 32009.869  ΔS:     -2.90065  moves:     6 \n",
      "niter:    87  count:    6  breaks:  1  min_S: 31998.752  max_S: 32185.170  S: 32006.990  ΔS:     -2.87943  moves:     1 \n",
      "niter:    88  count:    7  breaks:  1  min_S: 31998.752  max_S: 32185.170  S: 32003.616  ΔS:     -3.37402  moves:   610 \n",
      "niter:    89  count:    0  breaks:  1  min_S: 31962.099  max_S: 32185.170  S: 31962.099  ΔS:     -41.5168  moves:    73 \n",
      "niter:    90  count:    0  breaks:  1  min_S: 31957.134  max_S: 32185.170  S: 31957.134  ΔS:     -4.96523  moves:     4 \n",
      "niter:    91  count:    0  breaks:  1  min_S: 31953.944  max_S: 32185.170  S: 31953.944  ΔS:     -3.18983  moves:     5 \n",
      "niter:    92  count:    0  breaks:  1  min_S: 31948.411  max_S: 32185.170  S: 31948.411  ΔS:     -5.53265  moves:     5 \n",
      "niter:    93  count:    1  breaks:  1  min_S: 31948.411  max_S: 32185.170  S: 31949.032  ΔS:     0.620693  moves:     2 \n",
      "niter:    94  count:    0  breaks:  1  min_S: 31945.179  max_S: 32185.170  S: 31945.179  ΔS:     -3.85283  moves:     1 \n",
      "niter:    95  count:    1  breaks:  1  min_S: 31945.179  max_S: 32185.170  S: 31946.630  ΔS:      1.45099  moves:     1 \n",
      "niter:    96  count:    2  breaks:  1  min_S: 31945.179  max_S: 32185.170  S: 31950.483  ΔS:      3.85239  moves:     1 \n",
      "niter:    97  count:    3  breaks:  1  min_S: 31945.179  max_S: 32185.170  S: 31955.149  ΔS:      4.66594  moves:     2 \n",
      "niter:    98  count:    4  breaks:  1  min_S: 31945.179  max_S: 32185.170  S: 31954.132  ΔS:     -1.01662  moves:     2 \n",
      "niter:    99  count:    5  breaks:  1  min_S: 31945.179  max_S: 32185.170  S: 31957.565  ΔS:      3.43292  moves:     1 \n",
      "niter:   100  count:    6  breaks:  1  min_S: 31945.179  max_S: 32185.170  S: 31958.426  ΔS:     0.860939  moves:     2 \n",
      "niter:   101  count:    7  breaks:  1  min_S: 31945.179  max_S: 32185.170  S: 31958.426  ΔS:      0.00000  moves:     0 \n",
      "niter:   102  count:    8  breaks:  1  min_S: 31945.179  max_S: 32185.170  S: 31962.775  ΔS:      4.34942  moves:   178 \n",
      "niter:   103  count:    9  breaks:  1  min_S: 31945.179  max_S: 32185.170  S: 31953.823  ΔS:     -8.95231  moves:     6 \n",
      "niter:   104  count:   10  breaks:  2  min_S: 31945.179  max_S: 32185.170  S: 31957.933  ΔS:      4.11012  moves:     5 \n"
     ]
    }
   ],
   "source": [
    "print(\"Post-SBM optimisation with MCMC\")\n",
    "print(\"Note we have reduced the number of iterations here for the toy example to reduce runtime\")\n",
    "history  = gt.mcmc_equilibrate(state_binomial, wait=10, nbreaks=2, mcmc_args=dict(niter=1),history=True,verbose=True)\n",
    "history = pd.DataFrame(history,columns=['nattempts','nmoves','entropy']).astype(float)\n",
    "history.to_csv(path+'patient_sbm_equilibration.csv')\n",
    "pickle.dump(state_binomial,open(path+'state_binomial_equilibrated.p','wb'),protocol=4)"
   ]
  },
  {
   "cell_type": "code",
   "execution_count": 9,
   "metadata": {},
   "outputs": [
    {
     "name": "stdout",
     "output_type": "stream",
     "text": [
      "Complete\n"
     ]
    }
   ],
   "source": [
    "print(\"Complete\")"
   ]
  }
 ],
 "metadata": {
  "kernelspec": {
   "display_name": "Python 3 (ipykernel)",
   "language": "python",
   "name": "python3"
  },
  "language_info": {
   "codemirror_mode": {
    "name": "ipython",
    "version": 3
   },
   "file_extension": ".py",
   "mimetype": "text/x-python",
   "name": "python",
   "nbconvert_exporter": "python",
   "pygments_lexer": "ipython3",
   "version": "3.8.10"
  }
 },
 "nbformat": 4,
 "nbformat_minor": 2
}
